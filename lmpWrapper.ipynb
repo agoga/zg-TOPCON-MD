{
 "cells": [
  {
   "cell_type": "code",
   "execution_count": null,
   "metadata": {},
   "outputs": [],
   "source": [
    "import lammps\n",
    "lmp = lammps.lammps('mpi')\n",
    "\n",
    "\n"
   ]
  },
  {
   "cell_type": "markdown",
   "metadata": {},
   "source": []
  },
  {
   "cell_type": "code",
   "execution_count": 1,
   "metadata": {},
   "outputs": [
    {
     "name": "stdout",
     "output_type": "stream",
     "text": [
      "LAMMPS (23 Jun 2022)\n",
      "OMP_NUM_THREADS environment is not set. Defaulting to 1 thread. (src/comm.cpp:98)\n",
      "  using 1 OpenMP thread(s) per MPI task\n",
      "LAMMPS output is captured by PyLammps wrapper\n"
     ]
    },
    {
     "ename": "",
     "evalue": "",
     "output_type": "error",
     "traceback": [
      "\u001b[1;31mThe Kernel crashed while executing code in the the current cell or a previous cell. Please review the code in the cell(s) to identify a possible cause of the failure. Click <a href='https://aka.ms/vscodeJupyterKernelCrash'>here</a> for more info. View Jupyter <a href='command:jupyter.viewOutput'>log</a> for further details."
     ]
    },
    {
     "ename": "",
     "evalue": "",
     "output_type": "error",
     "traceback": [
      "\u001b[1;31mCanceled future for execute_request message before replies were done"
     ]
    }
   ],
   "source": [
    "from lammps import IPyLammps\n",
    "\n",
    "\n",
    "L = IPyLammps('mpi')\n",
    "L.clear()\n",
    "L.units(\"real\")\n",
    "L.dimension(\"3\")\n",
    "L.boundary(\"p p p\")\n",
    "L.atom_style(\"charge\")\n",
    "L.variable(\"dt equal .5\")\n",
    "\n",
    "\n",
    "L.read_data(\"/home/agoga/documents/code/topcon-md/sandbox/CreateAmorphSiOx-POSS-54141080/SiOx-final-1.data\")\n",
    "\n",
    "L.pair_style(\"reaxff topcon.control\")\n",
    "L.pair_coeff(\"* * potential/ffield_Nayir_SiO_2019.reax H O Si\")\n",
    "# #Pair style reaxff requires use of exactly one of the fix qeq/reaxff or fix qeq/shielded or fix acks2/reaxff commands \n",
    "L.fix(\"r1 all qeq/reax 1 0.0 10.0 1e-6 reaxff\")\n",
    "\n",
    "L.neighbor(\"2 bin\")\n",
    "L.neigh_modify(\"every 10 delay 0 check yes\")\n",
    "\n",
    "\n",
    "L.timestep(\"${dt}\")\n",
    "L.thermo(\"100\")\n",
    "\n",
    "L.thermo_style(\"custom step time temp density etotal pe press ke vol\")\n",
    "\n",
    "L.dump(\"d1 all custom 100 jupyter-output/testmin/jupyterwrapper.dump id type q x y z ix iy iz mass element vx vy vz\")\n",
    "L.dump_modify(\"d1 element H O Si\")\n",
    "\n",
    "\n",
    "L.min_style('hftn')\n",
    "L.minimize('1.0e-6 1.0e-6 1000 1000')\n",
    "\n",
    "L.fix(\"b1 all reaxff/bonds 100 jupyter-output/testmin/bonds.dump\")\n",
    "L.run(\"100\")\n"
   ]
  },
  {
   "cell_type": "code",
   "execution_count": null,
   "metadata": {},
   "outputs": [],
   "source": [
    "bondfile =\"/home/agoga/topcon/jupyter-output/bonds.dump\"\n",
    "import pandas as pd\n",
    "\n",
    "\n",
    "df = pd.read_csv(bondfile,delim_whitespace=True,skiprows=7)"
   ]
  },
  {
   "cell_type": "code",
   "execution_count": null,
   "metadata": {},
   "outputs": [],
   "source": []
  }
 ],
 "metadata": {
  "kernelspec": {
   "display_name": "Python 3.10.4 64-bit",
   "language": "python",
   "name": "python3"
  },
  "language_info": {
   "codemirror_mode": {
    "name": "ipython",
    "version": 3
   },
   "file_extension": ".py",
   "mimetype": "text/x-python",
   "name": "python",
   "nbconvert_exporter": "python",
   "pygments_lexer": "ipython3",
   "version": "3.10.4"
  },
  "orig_nbformat": 4,
  "vscode": {
   "interpreter": {
    "hash": "767d51c1340bd893661ea55ea3124f6de3c7a262a8b4abca0554b478b1e2ff90"
   }
  }
 },
 "nbformat": 4,
 "nbformat_minor": 2
}
