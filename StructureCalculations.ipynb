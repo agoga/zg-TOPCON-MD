{
 "cells": [
  {
   "cell_type": "code",
   "execution_count": 35,
   "metadata": {},
   "outputs": [
    {
     "name": "stdout",
     "output_type": "stream",
     "text": [
      "The autoreload extension is already loaded. To reload it, use:\n",
      "  %reload_ext autoreload\n",
      "/home/agoga/topcon/sandbox/CreateAmorphSiOx.dump\n"
     ]
    },
    {
     "data": {
      "text/plain": [
       "<Figure size 640x480 with 0 Axes>"
      ]
     },
     "metadata": {},
     "output_type": "display_data"
    }
   ],
   "source": [
    "import sys\n",
    "import os\n",
    "import shutil\n",
    "from py import analysis\n",
    "import matplotlib\n",
    "# %matplotlib notebook\n",
    "%load_ext autoreload\n",
    "%autoreload 2\n",
    "\n",
    "\n",
    "cwd=os.getcwd()\n",
    "cwd='/home/agoga/topcon'\n",
    "\n",
    "folder='/sandbox/'\n",
    "\n",
    "file='CreateAmorphSiOx.dump'\n",
    "f=cwd+folder+file\n",
    "filepath=os.path.join(cwd,f)\n",
    "f=cwd+folder+\"png/\"\n",
    "outFolder=os.path.join(cwd,f)\n",
    "#filepath=\"/home/agoga/topcon/sandbox/CreateAmorphSiOx.dump\"\n",
    "print(filepath)\n",
    "# if os.path.exists(outFolder):\n",
    "#     shutil.rmtree(outFolder)\n",
    "# print(outFolder)\n",
    "# os.makedirs(outFolder)\n",
    "# coordList=[0,1,2,3,4]\n",
    "# e=analysis.coordinationTimeseries(os.path.join('/home/agoga/topcon/sandbox/'+f),coordList)\n",
    "analysis.rdfTimeseries(filepath,[],outFolder)\n",
    "\n"
   ]
  },
  {
   "cell_type": "code",
   "execution_count": 38,
   "metadata": {},
   "outputs": [
    {
     "name": "stderr",
     "output_type": "stream",
     "text": [
      "/tmp/ipykernel_1799/2833260775.py:6: DeprecationWarning: Starting with ImageIO v3 the behavior of this function will switch to that of iio.v3.imread. To keep the current behavior (and make this warning disappear) use `import imageio.v2 as imageio` or call `imageio.v2.imread` directly.\n",
      "  images.append(imageio.imread(f))\n"
     ]
    }
   ],
   "source": [
    "import imageio\n",
    "images = []\n",
    "\n",
    "for filename in sorted(os.listdir(outFolder)):\n",
    "    f=outFolder+filename\n",
    "    images.append(imageio.imread(f))\n",
    "imageio.mimsave(cwd+folder+file+'.mp4', images)"
   ]
  },
  {
   "cell_type": "code",
   "execution_count": null,
   "metadata": {},
   "outputs": [],
   "source": [
    "import glob\n",
    "from PIL import Image\n",
    "import numpy as np\n",
    "\n",
    "def make_gif(fold):\n",
    "    fname=\"t{0:.2f}.jpg\"\n",
    "    times = np.hstack((np.arange(0,10,0.1), np.arange(10,11,0.1)))\n",
    "    frames = []\n",
    "    for t in times:\n",
    "        frames.append(Image.open(fold+fname.format(t)))\n",
    "    frame_one = frames[0]\n",
    "    frame_one.save(\"NT.gif\", format=\"GIF\", append_images=frames, save_all=True, duration=1000, loop=0)\n",
    "\n",
    "\n",
    "make_gif(\"GIF_IMAGES/\")"
   ]
  }
 ],
 "metadata": {
  "kernelspec": {
   "display_name": "Python 3.10.4 64-bit",
   "language": "python",
   "name": "python3"
  },
  "language_info": {
   "codemirror_mode": {
    "name": "ipython",
    "version": 3
   },
   "file_extension": ".py",
   "mimetype": "text/x-python",
   "name": "python",
   "nbconvert_exporter": "python",
   "pygments_lexer": "ipython3",
   "version": "3.10.4"
  },
  "orig_nbformat": 4,
  "vscode": {
   "interpreter": {
    "hash": "767d51c1340bd893661ea55ea3124f6de3c7a262a8b4abca0554b478b1e2ff90"
   }
  }
 },
 "nbformat": 4,
 "nbformat_minor": 2
}
